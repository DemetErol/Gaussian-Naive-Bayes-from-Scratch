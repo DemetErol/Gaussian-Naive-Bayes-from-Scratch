{
 "cells": [
  {
   "cell_type": "code",
   "execution_count": 1,
   "id": "tired-output",
   "metadata": {},
   "outputs": [],
   "source": [
    "import pandas as pd\n",
    "import numpy as np\n",
    "from math import *"
   ]
  },
  {
   "cell_type": "code",
   "execution_count": 2,
   "id": "pressing-elite",
   "metadata": {},
   "outputs": [],
   "source": [
    "#read dataframe\n",
    "df = pd.read_csv(\"Training_Penguins_data.csv\")"
   ]
  },
  {
   "cell_type": "code",
   "execution_count": 3,
   "id": "every-belarus",
   "metadata": {},
   "outputs": [
    {
     "data": {
      "text/html": [
       "<div>\n",
       "<style scoped>\n",
       "    .dataframe tbody tr th:only-of-type {\n",
       "        vertical-align: middle;\n",
       "    }\n",
       "\n",
       "    .dataframe tbody tr th {\n",
       "        vertical-align: top;\n",
       "    }\n",
       "\n",
       "    .dataframe thead th {\n",
       "        text-align: right;\n",
       "    }\n",
       "</style>\n",
       "<table border=\"1\" class=\"dataframe\">\n",
       "  <thead>\n",
       "    <tr style=\"text-align: right;\">\n",
       "      <th></th>\n",
       "      <th>species</th>\n",
       "      <th>island</th>\n",
       "      <th>bill_length_mm</th>\n",
       "      <th>bill_depth_mm</th>\n",
       "      <th>flipper_length_mm</th>\n",
       "      <th>body_mass_kg</th>\n",
       "      <th>sex</th>\n",
       "    </tr>\n",
       "  </thead>\n",
       "  <tbody>\n",
       "    <tr>\n",
       "      <th>0</th>\n",
       "      <td>Adelie</td>\n",
       "      <td>Torgersen</td>\n",
       "      <td>41.1</td>\n",
       "      <td>17.6</td>\n",
       "      <td>182</td>\n",
       "      <td>3.757</td>\n",
       "      <td>female</td>\n",
       "    </tr>\n",
       "    <tr>\n",
       "      <th>1</th>\n",
       "      <td>Adelie</td>\n",
       "      <td>Torgersen</td>\n",
       "      <td>38.6</td>\n",
       "      <td>21.2</td>\n",
       "      <td>191</td>\n",
       "      <td>3.758</td>\n",
       "      <td>male</td>\n",
       "    </tr>\n",
       "    <tr>\n",
       "      <th>2</th>\n",
       "      <td>Adelie</td>\n",
       "      <td>Torgersen</td>\n",
       "      <td>34.6</td>\n",
       "      <td>21.1</td>\n",
       "      <td>198</td>\n",
       "      <td>3.759</td>\n",
       "      <td>male</td>\n",
       "    </tr>\n",
       "    <tr>\n",
       "      <th>3</th>\n",
       "      <td>Adelie</td>\n",
       "      <td>Torgersen</td>\n",
       "      <td>36.6</td>\n",
       "      <td>17.8</td>\n",
       "      <td>185</td>\n",
       "      <td>3.760</td>\n",
       "      <td>female</td>\n",
       "    </tr>\n",
       "    <tr>\n",
       "      <th>4</th>\n",
       "      <td>Adelie</td>\n",
       "      <td>Torgersen</td>\n",
       "      <td>38.7</td>\n",
       "      <td>19.0</td>\n",
       "      <td>195</td>\n",
       "      <td>3.761</td>\n",
       "      <td>female</td>\n",
       "    </tr>\n",
       "  </tbody>\n",
       "</table>\n",
       "</div>"
      ],
      "text/plain": [
       "  species     island  bill_length_mm  bill_depth_mm  flipper_length_mm  \\\n",
       "0  Adelie  Torgersen            41.1           17.6                182   \n",
       "1  Adelie  Torgersen            38.6           21.2                191   \n",
       "2  Adelie  Torgersen            34.6           21.1                198   \n",
       "3  Adelie  Torgersen            36.6           17.8                185   \n",
       "4  Adelie  Torgersen            38.7           19.0                195   \n",
       "\n",
       "   body_mass_kg     sex  \n",
       "0         3.757  female  \n",
       "1         3.758    male  \n",
       "2         3.759    male  \n",
       "3         3.760  female  \n",
       "4         3.761  female  "
      ]
     },
     "execution_count": 3,
     "metadata": {},
     "output_type": "execute_result"
    }
   ],
   "source": [
    "#show first 5 row\n",
    "df.head()"
   ]
  },
  {
   "cell_type": "code",
   "execution_count": 4,
   "id": "wrapped-harvest",
   "metadata": {},
   "outputs": [
    {
     "name": "stdout",
     "output_type": "stream",
     "text": [
      "<class 'pandas.core.frame.DataFrame'>\n",
      "RangeIndex: 286 entries, 0 to 285\n",
      "Data columns (total 7 columns):\n",
      " #   Column             Non-Null Count  Dtype  \n",
      "---  ------             --------------  -----  \n",
      " 0   species            286 non-null    object \n",
      " 1   island             286 non-null    object \n",
      " 2   bill_length_mm     286 non-null    float64\n",
      " 3   bill_depth_mm      286 non-null    float64\n",
      " 4   flipper_length_mm  286 non-null    int64  \n",
      " 5   body_mass_kg       286 non-null    float64\n",
      " 6   sex                286 non-null    object \n",
      "dtypes: float64(3), int64(1), object(3)\n",
      "memory usage: 15.8+ KB\n"
     ]
    }
   ],
   "source": [
    "#dataframe informations\n",
    "df.info()"
   ]
  },
  {
   "cell_type": "code",
   "execution_count": 5,
   "id": "large-omega",
   "metadata": {},
   "outputs": [],
   "source": [
    "# 2.1.1 Training Phase of the Naive Bayes Algorithm\n",
    "# a) Separation of the training dataset into two sub-datasets based on the (sex) label\n",
    "df_f=df[df[\"sex\"]==\"female\"] #female df\n",
    "df_m=df[df[\"sex\"]==\"male\"] #male df"
   ]
  },
  {
   "cell_type": "code",
   "execution_count": 6,
   "id": "alone-router",
   "metadata": {},
   "outputs": [
    {
     "data": {
      "text/html": [
       "<div>\n",
       "<style scoped>\n",
       "    .dataframe tbody tr th:only-of-type {\n",
       "        vertical-align: middle;\n",
       "    }\n",
       "\n",
       "    .dataframe tbody tr th {\n",
       "        vertical-align: top;\n",
       "    }\n",
       "\n",
       "    .dataframe thead th {\n",
       "        text-align: right;\n",
       "    }\n",
       "</style>\n",
       "<table border=\"1\" class=\"dataframe\">\n",
       "  <thead>\n",
       "    <tr style=\"text-align: right;\">\n",
       "      <th></th>\n",
       "      <th>species</th>\n",
       "      <th>island</th>\n",
       "      <th>bill_length_mm</th>\n",
       "      <th>bill_depth_mm</th>\n",
       "      <th>flipper_length_mm</th>\n",
       "      <th>body_mass_kg</th>\n",
       "      <th>sex</th>\n",
       "    </tr>\n",
       "  </thead>\n",
       "  <tbody>\n",
       "    <tr>\n",
       "      <th>0</th>\n",
       "      <td>Adelie</td>\n",
       "      <td>Torgersen</td>\n",
       "      <td>38.6</td>\n",
       "      <td>21.2</td>\n",
       "      <td>191</td>\n",
       "      <td>3.758</td>\n",
       "      <td>male</td>\n",
       "    </tr>\n",
       "    <tr>\n",
       "      <th>1</th>\n",
       "      <td>Adelie</td>\n",
       "      <td>Torgersen</td>\n",
       "      <td>34.6</td>\n",
       "      <td>21.1</td>\n",
       "      <td>198</td>\n",
       "      <td>3.759</td>\n",
       "      <td>male</td>\n",
       "    </tr>\n",
       "    <tr>\n",
       "      <th>2</th>\n",
       "      <td>Adelie</td>\n",
       "      <td>Torgersen</td>\n",
       "      <td>42.5</td>\n",
       "      <td>20.7</td>\n",
       "      <td>197</td>\n",
       "      <td>3.762</td>\n",
       "      <td>male</td>\n",
       "    </tr>\n",
       "    <tr>\n",
       "      <th>3</th>\n",
       "      <td>Adelie</td>\n",
       "      <td>Torgersen</td>\n",
       "      <td>46.0</td>\n",
       "      <td>21.5</td>\n",
       "      <td>194</td>\n",
       "      <td>3.764</td>\n",
       "      <td>male</td>\n",
       "    </tr>\n",
       "    <tr>\n",
       "      <th>4</th>\n",
       "      <td>Adelie</td>\n",
       "      <td>Biscoe</td>\n",
       "      <td>38.8</td>\n",
       "      <td>17.2</td>\n",
       "      <td>180</td>\n",
       "      <td>3.769</td>\n",
       "      <td>male</td>\n",
       "    </tr>\n",
       "  </tbody>\n",
       "</table>\n",
       "</div>"
      ],
      "text/plain": [
       "  species     island  bill_length_mm  bill_depth_mm  flipper_length_mm  \\\n",
       "0  Adelie  Torgersen            38.6           21.2                191   \n",
       "1  Adelie  Torgersen            34.6           21.1                198   \n",
       "2  Adelie  Torgersen            42.5           20.7                197   \n",
       "3  Adelie  Torgersen            46.0           21.5                194   \n",
       "4  Adelie     Biscoe            38.8           17.2                180   \n",
       "\n",
       "   body_mass_kg   sex  \n",
       "0         3.758  male  \n",
       "1         3.759  male  \n",
       "2         3.762  male  \n",
       "3         3.764  male  \n",
       "4         3.769  male  "
      ]
     },
     "execution_count": 6,
     "metadata": {},
     "output_type": "execute_result"
    }
   ],
   "source": [
    "# reset index \n",
    "df_m.reset_index(drop=True, inplace=True)\n",
    "df_f.reset_index(drop=True, inplace=True)\n",
    "df_m.head()"
   ]
  },
  {
   "cell_type": "code",
   "execution_count": 7,
   "id": "eight-floor",
   "metadata": {},
   "outputs": [
    {
     "data": {
      "text/plain": [
       "0.493006993006993"
      ]
     },
     "execution_count": 7,
     "metadata": {},
     "output_type": "execute_result"
    }
   ],
   "source": [
    "# b) Computation of each class’ probability in the dataset i.e., P(male), P(female)\n",
    "\n",
    "# p_male= total male penquin samples/ total samples\n",
    "# p_female= total female penquin samples/ total samples\n",
    "\n",
    "p_male= len(df_m)/len(df)\n",
    "p_female= len(df_f)/len(df)\n",
    "\n",
    "p_female"
   ]
  },
  {
   "cell_type": "code",
   "execution_count": 8,
   "id": "thousand-hindu",
   "metadata": {},
   "outputs": [
    {
     "data": {
      "text/plain": [
       "0.506993006993007"
      ]
     },
     "execution_count": 8,
     "metadata": {},
     "output_type": "execute_result"
    }
   ],
   "source": [
    "p_male"
   ]
  },
  {
   "cell_type": "code",
   "execution_count": 9,
   "id": "dimensional-validation",
   "metadata": {},
   "outputs": [],
   "source": [
    "# c)Computation of each feature’s probability calculations for each class.\n",
    "#-I- If the feature is discrete\n",
    "\n",
    "# probability calculation for species both male and female\n",
    "species_p_f={}\n",
    "for each in df_f.species.unique():\n",
    "    species_p_f[each]=df_f.species.value_counts()[each]/len(df_f)\n",
    "    \n",
    "species_p_m={}\n",
    "for each in df_m.species.unique():\n",
    "    species_p_m[each]=df_m.species.value_counts()[each]/len(df_m)\n",
    "\n",
    "# probability calculation for island both male and female\n",
    "island_p_f={}\n",
    "for each in df_f.island.unique():\n",
    "    island_p_f[each]=df_f.island.value_counts()[each]/len(df_f)\n",
    "    \n",
    "island_p_m={}\n",
    "for each in df_m.island.unique():\n",
    "    island_p_m[each]=df_m.island.value_counts()[each]/len(df_m)\n",
    "    "
   ]
  },
  {
   "cell_type": "code",
   "execution_count": 10,
   "id": "suited-interval",
   "metadata": {},
   "outputs": [
    {
     "data": {
      "text/plain": [
       "{'Adelie': 0.41134751773049644,\n",
       " 'Gentoo': 0.375886524822695,\n",
       " 'Chinstrap': 0.2127659574468085}"
      ]
     },
     "execution_count": 10,
     "metadata": {},
     "output_type": "execute_result"
    }
   ],
   "source": [
    "species_p_f"
   ]
  },
  {
   "cell_type": "code",
   "execution_count": 11,
   "id": "technical-adrian",
   "metadata": {},
   "outputs": [
    {
     "data": {
      "text/plain": [
       "{'Adelie': 0.4,\n",
       " 'Gentoo': 0.38620689655172413,\n",
       " 'Chinstrap': 0.21379310344827587}"
      ]
     },
     "execution_count": 11,
     "metadata": {},
     "output_type": "execute_result"
    }
   ],
   "source": [
    "species_p_m"
   ]
  },
  {
   "cell_type": "code",
   "execution_count": 12,
   "id": "undefined-saudi",
   "metadata": {},
   "outputs": [
    {
     "data": {
      "text/plain": [
       "{'Torgersen': 0.14184397163120568,\n",
       " 'Biscoe': 0.48936170212765956,\n",
       " 'Dream': 0.36879432624113473}"
      ]
     },
     "execution_count": 12,
     "metadata": {},
     "output_type": "execute_result"
    }
   ],
   "source": [
    "island_p_f"
   ]
  },
  {
   "cell_type": "code",
   "execution_count": 13,
   "id": "sensitive-rehabilitation",
   "metadata": {},
   "outputs": [
    {
     "data": {
      "text/plain": [
       "{'Torgersen': 0.13793103448275862,\n",
       " 'Biscoe': 0.4896551724137931,\n",
       " 'Dream': 0.3724137931034483}"
      ]
     },
     "execution_count": 13,
     "metadata": {},
     "output_type": "execute_result"
    }
   ],
   "source": [
    "island_p_m"
   ]
  },
  {
   "cell_type": "code",
   "execution_count": 14,
   "id": "eleven-theme",
   "metadata": {},
   "outputs": [],
   "source": [
    "#-II- If the feature is continuous or has an integer value\n",
    "\n",
    "cont_m={} # continuous or has an integer value in males\n",
    "cont_f={} # continuous or has an integer value in females\n",
    "\n",
    "##Normal (or Gaussian) Distribution\n",
    "def cont_pro(m,v,f):\n",
    "    result =  (1/sqrt(2*3*v)) *exp(-0.5* pow((f- m),2)/v)  # (std)^2 = variance\n",
    "    return result\n",
    "\n",
    "#continuous or has an integer features\n",
    "cont=[\"bill_length_mm\",\"bill_depth_mm\",\"flipper_length_mm\",\"body_mass_kg\"]\n",
    "\n",
    "#index0 :mean ,index1:var\n",
    "for each in cont:\n",
    "    cont_f[each]=[df_f[each].mean(),df_f[each].var()] # mean and variance for features in female\n",
    "    cont_m[each]=[df_m[each].mean(),df_m[each].var()] # mean and variance for features in male     "
   ]
  },
  {
   "cell_type": "code",
   "execution_count": 15,
   "id": "happy-scratch",
   "metadata": {},
   "outputs": [
    {
     "data": {
      "text/plain": [
       "{'bill_length_mm': [46.293793103448266, 28.191280651341003],\n",
       " 'bill_depth_mm': [17.79448275862068, 3.4137193486590034],\n",
       " 'flipper_length_mm': [205.66206896551725, 208.62806513409956],\n",
       " 'body_mass_kg': [3.9294275862068977, 0.008318607567049805]}"
      ]
     },
     "execution_count": 15,
     "metadata": {},
     "output_type": "execute_result"
    }
   ],
   "source": [
    "cont_m"
   ]
  },
  {
   "cell_type": "code",
   "execution_count": 16,
   "id": "laden-hostel",
   "metadata": {},
   "outputs": [
    {
     "data": {
      "text/plain": [
       "{'bill_length_mm': [42.310638297872316, 24.664100303951372],\n",
       " 'bill_depth_mm': [16.305673758865254, 3.080539007092198],\n",
       " 'flipper_length_mm': [198.40425531914894, 154.02826747720366],\n",
       " 'body_mass_kg': [3.927439716312055, 0.008455990982776091]}"
      ]
     },
     "execution_count": 16,
     "metadata": {},
     "output_type": "execute_result"
    }
   ],
   "source": [
    "cont_f"
   ]
  },
  {
   "cell_type": "code",
   "execution_count": 17,
   "id": "arabic-search",
   "metadata": {},
   "outputs": [
    {
     "data": {
      "text/html": [
       "<div>\n",
       "<style scoped>\n",
       "    .dataframe tbody tr th:only-of-type {\n",
       "        vertical-align: middle;\n",
       "    }\n",
       "\n",
       "    .dataframe tbody tr th {\n",
       "        vertical-align: top;\n",
       "    }\n",
       "\n",
       "    .dataframe thead th {\n",
       "        text-align: right;\n",
       "    }\n",
       "</style>\n",
       "<table border=\"1\" class=\"dataframe\">\n",
       "  <thead>\n",
       "    <tr style=\"text-align: right;\">\n",
       "      <th></th>\n",
       "      <th>species</th>\n",
       "      <th>island</th>\n",
       "      <th>bill_length_mm</th>\n",
       "      <th>bill_depth_mm</th>\n",
       "      <th>flipper_length_mm</th>\n",
       "      <th>body_mass_kg</th>\n",
       "      <th>sex</th>\n",
       "    </tr>\n",
       "  </thead>\n",
       "  <tbody>\n",
       "    <tr>\n",
       "      <th>0</th>\n",
       "      <td>Adelie</td>\n",
       "      <td>Torgersen</td>\n",
       "      <td>39.1</td>\n",
       "      <td>18.7</td>\n",
       "      <td>181</td>\n",
       "      <td>3.750</td>\n",
       "      <td>male</td>\n",
       "    </tr>\n",
       "    <tr>\n",
       "      <th>1</th>\n",
       "      <td>Adelie</td>\n",
       "      <td>Torgersen</td>\n",
       "      <td>39.5</td>\n",
       "      <td>17.4</td>\n",
       "      <td>186</td>\n",
       "      <td>3.751</td>\n",
       "      <td>female</td>\n",
       "    </tr>\n",
       "    <tr>\n",
       "      <th>2</th>\n",
       "      <td>Adelie</td>\n",
       "      <td>Torgersen</td>\n",
       "      <td>40.3</td>\n",
       "      <td>18.0</td>\n",
       "      <td>196</td>\n",
       "      <td>3.752</td>\n",
       "      <td>female</td>\n",
       "    </tr>\n",
       "    <tr>\n",
       "      <th>3</th>\n",
       "      <td>Adelie</td>\n",
       "      <td>Torgersen</td>\n",
       "      <td>36.7</td>\n",
       "      <td>19.3</td>\n",
       "      <td>193</td>\n",
       "      <td>3.753</td>\n",
       "      <td>female</td>\n",
       "    </tr>\n",
       "    <tr>\n",
       "      <th>4</th>\n",
       "      <td>Adelie</td>\n",
       "      <td>Torgersen</td>\n",
       "      <td>39.3</td>\n",
       "      <td>20.6</td>\n",
       "      <td>190</td>\n",
       "      <td>3.754</td>\n",
       "      <td>male</td>\n",
       "    </tr>\n",
       "  </tbody>\n",
       "</table>\n",
       "</div>"
      ],
      "text/plain": [
       "  species     island  bill_length_mm  bill_depth_mm  flipper_length_mm  \\\n",
       "0  Adelie  Torgersen            39.1           18.7                181   \n",
       "1  Adelie  Torgersen            39.5           17.4                186   \n",
       "2  Adelie  Torgersen            40.3           18.0                196   \n",
       "3  Adelie  Torgersen            36.7           19.3                193   \n",
       "4  Adelie  Torgersen            39.3           20.6                190   \n",
       "\n",
       "   body_mass_kg     sex  \n",
       "0         3.750    male  \n",
       "1         3.751  female  \n",
       "2         3.752  female  \n",
       "3         3.753  female  \n",
       "4         3.754    male  "
      ]
     },
     "execution_count": 17,
     "metadata": {},
     "output_type": "execute_result"
    }
   ],
   "source": [
    "# test\n",
    "\n",
    "#read test dataframe\n",
    "test = pd.read_csv(\"Testing_Penguins_data.csv\")\n",
    "test.head()"
   ]
  },
  {
   "cell_type": "code",
   "execution_count": 18,
   "id": "determined-democracy",
   "metadata": {},
   "outputs": [],
   "source": [
    "# p(male|F1, F2, F3, F4, F5, F6) = p(F1|C1) ∗ p(F2|C1) ∗ p(F3|C1) ∗ p(F4|C1) ∗ p(F5|C1) ∗ p(F6|C1) ∗ p(C1)\n",
    "# p(female|F1, F2, F3, F4, F5, F6) = p(F1|C2) ∗ p(F2|C2) ∗ p(F3|C2) ∗ p(F4|C2) ∗ p(F5|C2) ∗ p(F6|C2) ∗ p(C2)\n",
    "\n",
    "# 2.1.6 a) Guess class of each test sample in the test set with a trained model\n",
    "y_predd= []\n",
    "for each in range(len(test)):\n",
    "    \n",
    "    p_m= p_male #p(C1)\n",
    "    p_f=p_female #p(C2)\n",
    "    \n",
    "    p_m *= species_p_m[test.loc[each,\"species\"]] # *p(F1|C1)\n",
    "    p_m *= island_p_m[test.loc[each,\"island\"]] # *p(F2|C1)\n",
    "    \n",
    "    p_f *= species_p_f[test.loc[each,\"species\"]] # *p(F1|C2)\n",
    "    p_f *= island_p_f[test.loc[each,\"island\"]] # *p(F2|C2)\n",
    "    \n",
    "    for i in [\"bill_length_mm\",\"bill_depth_mm\",\"flipper_length_mm\",\"body_mass_kg\"]:\n",
    "        #cont_m[i][0] = mean ,cont_m[i][1] = variance ,test.loc[each,i] = test value\n",
    "        p_m *= cont_pro(cont_m[i][0],cont_m[i][1],test.loc[each,i]) #∗ p(F3|C1) ∗ p(F4|C1) ∗ p(F5|C1) ∗ p(F6|C1)\n",
    "        p_f *= cont_pro(cont_f[i][0],cont_f[i][1],test.loc[each,i]) # ∗ p(F3|C2) ∗ p(F4|C2) ∗ p(F5|C2) ∗ p(F6|C2)\n",
    "    \n",
    "    #greater class probability    \n",
    "    \n",
    "    if p_m>p_f:\n",
    "        pred = \"male\" \n",
    "        \n",
    "    else:\n",
    "        pred= \"female\"\n",
    "        \n",
    "    y_predd.append(pred) \n",
    "\n"
   ]
  },
  {
   "cell_type": "code",
   "execution_count": 19,
   "id": "modified-reward",
   "metadata": {},
   "outputs": [],
   "source": [
    "#results\n",
    "\n",
    "tn=0\n",
    "fp=0\n",
    "fn=0\n",
    "tp=0\n",
    "\n",
    "for each in range(len(y_predd)):\n",
    "    \n",
    "    if y_predd[each]==\"male\":\n",
    "        if test.loc[each,\"sex\"]==\"male\": # real:male prediction:male\n",
    "            tn+=1\n",
    "        else: # real: female prediction:male\n",
    "            fn+=1\n",
    "    else:\n",
    "        if test.loc[each,\"sex\"]==\"male\": # real:male prediction:female\n",
    "            fp+=1\n",
    "        else: # real:female prediction: female\n",
    "            tp+=1\n"
   ]
  },
  {
   "cell_type": "code",
   "execution_count": 20,
   "id": "incredible-mattress",
   "metadata": {},
   "outputs": [],
   "source": [
    "#2.1.6 b. Compute Total Accuracy\n",
    "\n",
    "accuracy= (tp+tn)/(tp+fp+tn+fn)\n",
    "\n",
    "#2.1.6 c. Compute each class Accuracy\n",
    "\n",
    "f_acc= tp/(tp+fn) # female class accuracy # predict female/ real females\n",
    "m_acc= tn/(tn+fp) # male class accuracy # predict male/ real males\n"
   ]
  },
  {
   "cell_type": "code",
   "execution_count": 21,
   "id": "upset-indonesia",
   "metadata": {},
   "outputs": [
    {
     "data": {
      "text/plain": [
       "0.673469387755102"
      ]
     },
     "execution_count": 21,
     "metadata": {},
     "output_type": "execute_result"
    }
   ],
   "source": [
    "#2.1.6 d. Report the total accuracy and class accuracy values\n",
    "\n",
    "accuracy"
   ]
  },
  {
   "cell_type": "code",
   "execution_count": 22,
   "id": "respiratory-clearance",
   "metadata": {},
   "outputs": [
    {
     "data": {
      "text/plain": [
       "0.84"
      ]
     },
     "execution_count": 22,
     "metadata": {},
     "output_type": "execute_result"
    }
   ],
   "source": [
    "f_acc"
   ]
  },
  {
   "cell_type": "code",
   "execution_count": 23,
   "id": "detected-seventh",
   "metadata": {},
   "outputs": [
    {
     "data": {
      "text/plain": [
       "0.5"
      ]
     },
     "execution_count": 23,
     "metadata": {},
     "output_type": "execute_result"
    }
   ],
   "source": [
    "m_acc"
   ]
  },
  {
   "cell_type": "code",
   "execution_count": 24,
   "id": "optimum-steps",
   "metadata": {},
   "outputs": [],
   "source": [
    "# 2.1.6 e. Report the Confusion matrix\n",
    "\n",
    "# tp fp\n",
    "# fn tn\n",
    "\n",
    "confusion_matrix=pd.DataFrame( columns=[\"actual_female\",\"actual_male\"],index=[\"predicted_female\",\"predicted_male\"])"
   ]
  },
  {
   "cell_type": "code",
   "execution_count": 25,
   "id": "strange-custody",
   "metadata": {},
   "outputs": [],
   "source": [
    "confusion_matrix.loc[\"predicted_female\",\"actual_female\"]=tp\n",
    "confusion_matrix.loc[\"predicted_female\",\"actual_male\"]=fp\n",
    "confusion_matrix.loc[\"predicted_male\",\"actual_female\"]=fn\n",
    "confusion_matrix.loc[\"predicted_male\",\"actual_male\"]=tn"
   ]
  },
  {
   "cell_type": "code",
   "execution_count": 26,
   "id": "incorporate-alexander",
   "metadata": {},
   "outputs": [
    {
     "data": {
      "text/html": [
       "<div>\n",
       "<style scoped>\n",
       "    .dataframe tbody tr th:only-of-type {\n",
       "        vertical-align: middle;\n",
       "    }\n",
       "\n",
       "    .dataframe tbody tr th {\n",
       "        vertical-align: top;\n",
       "    }\n",
       "\n",
       "    .dataframe thead th {\n",
       "        text-align: right;\n",
       "    }\n",
       "</style>\n",
       "<table border=\"1\" class=\"dataframe\">\n",
       "  <thead>\n",
       "    <tr style=\"text-align: right;\">\n",
       "      <th></th>\n",
       "      <th>actual_female</th>\n",
       "      <th>actual_male</th>\n",
       "    </tr>\n",
       "  </thead>\n",
       "  <tbody>\n",
       "    <tr>\n",
       "      <th>predicted_female</th>\n",
       "      <td>21</td>\n",
       "      <td>12</td>\n",
       "    </tr>\n",
       "    <tr>\n",
       "      <th>predicted_male</th>\n",
       "      <td>4</td>\n",
       "      <td>12</td>\n",
       "    </tr>\n",
       "  </tbody>\n",
       "</table>\n",
       "</div>"
      ],
      "text/plain": [
       "                 actual_female actual_male\n",
       "predicted_female            21          12\n",
       "predicted_male               4          12"
      ]
     },
     "execution_count": 26,
     "metadata": {},
     "output_type": "execute_result"
    }
   ],
   "source": [
    "confusion_matrix"
   ]
  }
 ],
 "metadata": {
  "kernelspec": {
   "display_name": "Python 3",
   "language": "python",
   "name": "python3"
  },
  "language_info": {
   "codemirror_mode": {
    "name": "ipython",
    "version": 3
   },
   "file_extension": ".py",
   "mimetype": "text/x-python",
   "name": "python",
   "nbconvert_exporter": "python",
   "pygments_lexer": "ipython3",
   "version": "3.8.5"
  }
 },
 "nbformat": 4,
 "nbformat_minor": 5
}
